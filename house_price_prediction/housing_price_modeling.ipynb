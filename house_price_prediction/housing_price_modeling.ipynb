{
 "cells": [
  {
   "cell_type": "markdown",
   "id": "strange-redhead",
   "metadata": {},
   "source": [
    "In which I throw the data into various models and see what produces the best results."
   ]
  },
  {
   "cell_type": "code",
   "execution_count": 1,
   "id": "local-opinion",
   "metadata": {},
   "outputs": [],
   "source": [
    "import pandas as pd\n",
    "import numpy as np\n",
    "\n",
    "df = pd.read_csv('df_for_modeling.csv')"
   ]
  },
  {
   "cell_type": "code",
   "execution_count": 4,
   "id": "processed-adolescent",
   "metadata": {},
   "outputs": [],
   "source": [
    "y = df['SalePrice']\n",
    "X = df[['LotArea','OverallQual','OverallCond','YearBuilt','BedroomAbvGr','GarageCars','TotalSF','TotFullBath','TotHalfBath','has_Pool']]"
   ]
  },
  {
   "cell_type": "code",
   "execution_count": 5,
   "id": "behind-shift",
   "metadata": {},
   "outputs": [],
   "source": [
    "from sklearn.model_selection import train_test_split\n",
    "\n",
    "X_train, X_test, y_train, y_test = train_test_split(X, y, test_size=0.3, random_state=42)"
   ]
  },
  {
   "cell_type": "code",
   "execution_count": 10,
   "id": "gorgeous-blair",
   "metadata": {},
   "outputs": [
    {
     "name": "stdout",
     "output_type": "stream",
     "text": [
      "Cross-validation scores (R-squared): [0.82599966 0.85967436 0.81782149 0.79911465 0.81864633]\n",
      "Average score: 0.8242512992801357\n"
     ]
    }
   ],
   "source": [
    "from sklearn.model_selection import cross_val_score\n",
    "from sklearn.linear_model import LinearRegression\n",
    "\n",
    "reg = LinearRegression()\n",
    "cv_scores = cross_val_score(reg, X, y, cv=5)\n",
    "\n",
    "print(f\"Cross-validation scores (R-squared): {cv_scores}\")\n",
    "print(f\"Average score: {np.mean(cv_scores)}\")"
   ]
  },
  {
   "cell_type": "code",
   "execution_count": 11,
   "id": "seasonal-monte",
   "metadata": {},
   "outputs": [
    {
     "name": "stdout",
     "output_type": "stream",
     "text": [
      "Winning parameters: {'alpha': 0.1}\n",
      "R-squared is: 0.8394802457521632\n",
      "MSE is: 933204122.9849731\n"
     ]
    }
   ],
   "source": [
    "from sklearn.linear_model import Lasso\n",
    "from sklearn.metrics import mean_squared_error\n",
    "from sklearn.model_selection import GridSearchCV\n",
    "\n",
    "param_grid = {'alpha': np.linspace(0.1, 1, 10)}\n",
    "\n",
    "lasso = Lasso()\n",
    "lasso_cv = GridSearchCV(lasso, param_grid, cv=5)\n",
    "lasso_cv.fit(X_train, y_train)\n",
    "\n",
    "y_pred = lasso_cv.predict(X_test)\n",
    "r2 = lasso_cv.score(X_test, y_test)\n",
    "mse = mean_squared_error(y_test, y_pred)\n",
    "print(f\"Winning parameters: {lasso_cv.best_params_}\")\n",
    "print(f\"R-squared is: {r2}\")\n",
    "print(f\"MSE is: {mse}\")"
   ]
  },
  {
   "cell_type": "markdown",
   "id": "determined-majority",
   "metadata": {},
   "source": [
    "Interesting ... looks like a linear regression is actually pretty much the way to go, at least compared to a lasso."
   ]
  },
  {
   "cell_type": "code",
   "execution_count": 12,
   "id": "bearing-devices",
   "metadata": {},
   "outputs": [
    {
     "name": "stdout",
     "output_type": "stream",
     "text": [
      "Winning parameters: {'alpha': 1.0}\n",
      "R-squared is: 0.8399337843650425\n",
      "MSE is: 930567412.5971757\n"
     ]
    }
   ],
   "source": [
    "from sklearn.linear_model import Ridge\n",
    "\n",
    "param_grid = {'alpha': np.logspace(-4, 0, 20)}\n",
    "\n",
    "ridge = Ridge()\n",
    "ridge_cv = GridSearchCV(ridge, param_grid, cv=5)\n",
    "ridge_cv.fit(X_train, y_train)\n",
    "\n",
    "y_pred = ridge_cv.predict(X_test)\n",
    "r2 = ridge_cv.score(X_test, y_test)\n",
    "mse = mean_squared_error(y_test, y_pred)\n",
    "print(f\"Winning parameters: {ridge_cv.best_params_}\")\n",
    "print(f\"R-squared is: {r2}\")\n",
    "print(f\"MSE is: {mse}\")"
   ]
  },
  {
   "cell_type": "code",
   "execution_count": 16,
   "id": "nasty-championship",
   "metadata": {},
   "outputs": [
    {
     "name": "stdout",
     "output_type": "stream",
     "text": [
      "Winning parameters: {'l1_ratio': 1.0}\n",
      "R-squared is: 0.8395508123748705\n",
      "MSE is: 932793874.0186436\n"
     ]
    }
   ],
   "source": [
    "from sklearn.linear_model import ElasticNet\n",
    "\n",
    "param_grid = {'l1_ratio': np.linspace(0.1, 1, 10)}\n",
    "\n",
    "en = ElasticNet(max_iter=2000)\n",
    "en_cv = GridSearchCV(en, param_grid, cv=5)\n",
    "en_cv.fit(X_train, y_train)\n",
    "\n",
    "y_pred = en_cv.predict(X_test)\n",
    "r2 = en_cv.score(X_test, y_test)\n",
    "mse = mean_squared_error(y_test, y_pred)\n",
    "print(f\"Winning parameters: {en_cv.best_params_}\")\n",
    "print(f\"R-squared is: {r2}\")\n",
    "print(f\"MSE is: {mse}\")"
   ]
  },
  {
   "cell_type": "code",
   "execution_count": null,
   "id": "wooden-virus",
   "metadata": {},
   "outputs": [],
   "source": []
  }
 ],
 "metadata": {
  "kernelspec": {
   "display_name": "Python 3",
   "language": "python",
   "name": "python3"
  },
  "language_info": {
   "codemirror_mode": {
    "name": "ipython",
    "version": 3
   },
   "file_extension": ".py",
   "mimetype": "text/x-python",
   "name": "python",
   "nbconvert_exporter": "python",
   "pygments_lexer": "ipython3",
   "version": "3.8.8"
  }
 },
 "nbformat": 4,
 "nbformat_minor": 5
}
