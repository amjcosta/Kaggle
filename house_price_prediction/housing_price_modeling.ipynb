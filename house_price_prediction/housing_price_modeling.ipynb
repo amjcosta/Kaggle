{
 "cells": [
  {
   "cell_type": "markdown",
   "id": "strange-redhead",
   "metadata": {},
   "source": [
    "In which I throw the data into various models and see what produces the best results."
   ]
  },
  {
   "cell_type": "code",
   "execution_count": 46,
   "id": "local-opinion",
   "metadata": {},
   "outputs": [],
   "source": [
    "import pandas as pd\n",
    "import numpy as np\n",
    "\n",
    "df = pd.read_csv('df_for_modeling.csv', index_col='Id')"
   ]
  },
  {
   "cell_type": "code",
   "execution_count": 47,
   "id": "processed-adolescent",
   "metadata": {},
   "outputs": [],
   "source": [
    "y = df['SalePrice']\n",
    "X = df[['LotArea','OverallQual','OverallCond','YearBuilt','BedroomAbvGr','GarageCars','TotalSF','TotFullBath','TotHalfBath','has_Pool']]"
   ]
  },
  {
   "cell_type": "code",
   "execution_count": 48,
   "id": "behind-shift",
   "metadata": {},
   "outputs": [],
   "source": [
    "from sklearn.model_selection import train_test_split\n",
    "\n",
    "X_train, X_test, y_train, y_test = train_test_split(X, y, test_size=0.3, random_state=42)"
   ]
  },
  {
   "cell_type": "code",
   "execution_count": 49,
   "id": "gorgeous-blair",
   "metadata": {},
   "outputs": [
    {
     "name": "stdout",
     "output_type": "stream",
     "text": [
      "R-squared is: 0.8394723907727396\n",
      "RMSE is: 30549.1372874985, and MAE is: 21672.98290611072\n"
     ]
    }
   ],
   "source": [
    "from sklearn.model_selection import cross_val_score\n",
    "from sklearn.linear_model import LinearRegression\n",
    "\n",
    "from sklearn.metrics import mean_squared_error, mean_absolute_error\n",
    "from sklearn.model_selection import GridSearchCV\n",
    "\n",
    "reg = LinearRegression()\n",
    "\n",
    "reg_cv = GridSearchCV(reg, {}, cv=5)\n",
    "reg_cv.fit(X_train, y_train)\n",
    "\n",
    "y_pred = reg_cv.predict(X_test)\n",
    "r2 = reg_cv.score(X_test, y_test)\n",
    "rmse = np.sqrt(mean_squared_error(y_test, y_pred))\n",
    "mae = mean_absolute_error(y_test, y_pred)\n",
    "print(f\"R-squared is: {r2}\")\n",
    "print(f\"RMSE is: {rmse}, and MAE is: {mae}\")"
   ]
  },
  {
   "cell_type": "code",
   "execution_count": 50,
   "id": "seasonal-monte",
   "metadata": {},
   "outputs": [
    {
     "name": "stdout",
     "output_type": "stream",
     "text": [
      "Winning parameters: {'alpha': 0.1}\n",
      "R-squared is: 0.8394802457521632\n",
      "RMSE is: 30548.389859123068, and MAE is: 21672.718810760965\n"
     ]
    }
   ],
   "source": [
    "from sklearn.linear_model import Lasso\n",
    "\n",
    "param_grid = {'alpha': np.linspace(0.1, 1, 10)}\n",
    "\n",
    "lasso = Lasso()\n",
    "lasso_cv = GridSearchCV(lasso, param_grid, cv=5)\n",
    "lasso_cv.fit(X_train, y_train)\n",
    "\n",
    "y_pred = lasso_cv.predict(X_test)\n",
    "r2 = lasso_cv.score(X_test, y_test)\n",
    "rmse = np.sqrt(mean_squared_error(y_test, y_pred))\n",
    "mae = mean_absolute_error(y_test, y_pred)\n",
    "print(f\"Winning parameters: {lasso_cv.best_params_}\")\n",
    "print(f\"R-squared is: {r2}\")\n",
    "print(f\"RMSE is: {rmse}, and MAE is: {mae}\")"
   ]
  },
  {
   "cell_type": "markdown",
   "id": "determined-majority",
   "metadata": {},
   "source": [
    "Interesting ... looks like a linear regression is actually pretty much the way to go, at least compared to a lasso."
   ]
  },
  {
   "cell_type": "code",
   "execution_count": 51,
   "id": "bearing-devices",
   "metadata": {},
   "outputs": [
    {
     "name": "stdout",
     "output_type": "stream",
     "text": [
      "Winning parameters: {'alpha': 1.0}\n",
      "R-squared is: 0.8399337843650425\n",
      "RMSE is: 30505.203041402227, and MAE is: 21656.20575192284\n"
     ]
    }
   ],
   "source": [
    "from sklearn.linear_model import Ridge\n",
    "\n",
    "param_grid = {'alpha': np.logspace(-4, 0, 20)}\n",
    "\n",
    "ridge = Ridge()\n",
    "ridge_cv = GridSearchCV(ridge, param_grid, cv=5)\n",
    "ridge_cv.fit(X_train, y_train)\n",
    "\n",
    "y_pred = ridge_cv.predict(X_test)\n",
    "r2 = ridge_cv.score(X_test, y_test)\n",
    "rmse = np.sqrt(mean_squared_error(y_test, y_pred))\n",
    "mae = mean_absolute_error(y_test, y_pred)\n",
    "print(f\"Winning parameters: {ridge_cv.best_params_}\")\n",
    "print(f\"R-squared is: {r2}\")\n",
    "print(f\"RMSE is: {rmse}, and MAE is: {mae}\")"
   ]
  },
  {
   "cell_type": "code",
   "execution_count": 52,
   "id": "nasty-championship",
   "metadata": {},
   "outputs": [
    {
     "name": "stdout",
     "output_type": "stream",
     "text": [
      "Winning parameters: {'l1_ratio': 1.0}\n",
      "R-squared is: 0.8395508123748705\n",
      "RMSE is: 30541.67438138655, and MAE is: 21670.34193294356\n"
     ]
    }
   ],
   "source": [
    "from sklearn.linear_model import ElasticNet\n",
    "\n",
    "param_grid = {'l1_ratio': np.linspace(0.1, 1, 10)}\n",
    "\n",
    "en = ElasticNet(max_iter=2000)\n",
    "en_cv = GridSearchCV(en, param_grid, cv=5)\n",
    "en_cv.fit(X_train, y_train)\n",
    "\n",
    "y_pred = en_cv.predict(X_test)\n",
    "r2 = en_cv.score(X_test, y_test)\n",
    "rmse = np.sqrt(mean_squared_error(y_test, y_pred))\n",
    "mae = mean_absolute_error(y_test, y_pred)\n",
    "print(f\"Winning parameters: {en_cv.best_params_}\")\n",
    "print(f\"R-squared is: {r2}\")\n",
    "print(f\"RMSE is: {rmse}, and MAE is: {mae}\")"
   ]
  },
  {
   "cell_type": "markdown",
   "id": "inappropriate-catalog",
   "metadata": {},
   "source": [
    "Of all of these, Ridge (with alpha = 1.0) was the highest performing, as evaluated by RMSE. \n",
    "\n",
    "I need to prepare my test data the same way I have prepared my training data."
   ]
  },
  {
   "cell_type": "code",
   "execution_count": 53,
   "id": "addressed-welding",
   "metadata": {},
   "outputs": [],
   "source": [
    "X_holdout = pd.read_csv('test.csv', index_col='Id')\n",
    "\n",
    "X_holdout['TotalLivAreaSF'] = X_holdout['1stFlrSF'] + X_holdout['2ndFlrSF']\n",
    "X_holdout['TotalSF'] = X_holdout['TotalLivAreaSF'] + X_holdout['TotalBsmtSF'] + X_holdout['GarageArea']\n",
    "\n",
    "X_holdout['TotFullBath'] = X_holdout['BsmtFullBath'] + X_holdout['FullBath']\n",
    "X_holdout['TotHalfBath'] = X_holdout['BsmtHalfBath'] + X_holdout['HalfBath']\n",
    "X_holdout['has_Pool'] = np.where(X_holdout['PoolArea']>0,1,0)\n",
    "\n",
    "X_holdout_for_pred = X_holdout[['LotArea','OverallQual','OverallCond','YearBuilt','BedroomAbvGr','GarageCars','TotalSF','TotFullBath','TotHalfBath','has_Pool']]"
   ]
  },
  {
   "cell_type": "code",
   "execution_count": 54,
   "id": "streaming-carbon",
   "metadata": {},
   "outputs": [
    {
     "name": "stdout",
     "output_type": "stream",
     "text": [
      "<class 'pandas.core.frame.DataFrame'>\n",
      "Int64Index: 1459 entries, 1461 to 2919\n",
      "Data columns (total 10 columns):\n",
      " #   Column        Non-Null Count  Dtype  \n",
      "---  ------        --------------  -----  \n",
      " 0   LotArea       1459 non-null   int64  \n",
      " 1   OverallQual   1459 non-null   int64  \n",
      " 2   OverallCond   1459 non-null   int64  \n",
      " 3   YearBuilt     1459 non-null   int64  \n",
      " 4   BedroomAbvGr  1459 non-null   int64  \n",
      " 5   GarageCars    1458 non-null   float64\n",
      " 6   TotalSF       1457 non-null   float64\n",
      " 7   TotFullBath   1457 non-null   float64\n",
      " 8   TotHalfBath   1457 non-null   float64\n",
      " 9   has_Pool      1459 non-null   int64  \n",
      "dtypes: float64(4), int64(6)\n",
      "memory usage: 125.4 KB\n"
     ]
    }
   ],
   "source": [
    "X_holdout_for_pred.info()"
   ]
  },
  {
   "cell_type": "markdown",
   "id": "crucial-closer",
   "metadata": {},
   "source": [
    "First - it turns out we've been foiled by some `NaN`s in the holdout dataset (test.csv). Rats! They're all floats. I'm going to have to impute them, and I'm going to use a simple mean imputer. "
   ]
  },
  {
   "cell_type": "code",
   "execution_count": 57,
   "id": "economic-fellowship",
   "metadata": {},
   "outputs": [],
   "source": [
    "from sklearn.impute import SimpleImputer\n",
    "from sklearn.pipeline import Pipeline\n",
    "\n",
    "imputer =  SimpleImputer(strategy='mean')\n",
    "ridge = Ridge(alpha=1.0)\n",
    "\n",
    "steps = [('imputation', imputer), ('model', ridge)]\n",
    "pipeline = Pipeline(steps)\n",
    "\n",
    "pipeline.fit(X, y)\n",
    "preds = pipeline.predict(X_holdout_for_pred)"
   ]
  },
  {
   "cell_type": "code",
   "execution_count": 62,
   "id": "stretch-spotlight",
   "metadata": {},
   "outputs": [],
   "source": [
    "submission_df = pd.DataFrame({'Id': X_holdout_for_pred.index, 'SalePrice': preds})\n",
    "submission_df.to_csv('price_predictions.csv', index=False)"
   ]
  },
  {
   "cell_type": "code",
   "execution_count": null,
   "id": "empirical-alignment",
   "metadata": {},
   "outputs": [],
   "source": []
  }
 ],
 "metadata": {
  "kernelspec": {
   "display_name": "Python 3",
   "language": "python",
   "name": "python3"
  },
  "language_info": {
   "codemirror_mode": {
    "name": "ipython",
    "version": 3
   },
   "file_extension": ".py",
   "mimetype": "text/x-python",
   "name": "python",
   "nbconvert_exporter": "python",
   "pygments_lexer": "ipython3",
   "version": "3.8.8"
  }
 },
 "nbformat": 4,
 "nbformat_minor": 5
}
