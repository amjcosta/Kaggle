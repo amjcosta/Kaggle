{
 "cells": [
  {
   "cell_type": "markdown",
   "id": "bacterial-anger",
   "metadata": {},
   "source": [
    "This notebook attempts to interpret a logistic regression, then prepares a simple model for prediction submission to Kaggle."
   ]
  },
  {
   "cell_type": "code",
   "execution_count": 52,
   "id": "determined-isaac",
   "metadata": {},
   "outputs": [],
   "source": [
    "import pandas as pd\n",
    "import numpy as np\n",
    "\n",
    "train = pd.read_csv('train.csv', index_col='PassengerId')"
   ]
  },
  {
   "cell_type": "code",
   "execution_count": 53,
   "id": "spectacular-batch",
   "metadata": {},
   "outputs": [],
   "source": [
    "train.drop(['Ticket'], axis=1, inplace=True)\n",
    "train.drop(['Cabin'], axis=1, inplace=True)\n",
    "\n",
    "train['first_class'] = np.where(train['Pclass']==1, 1, 0)\n",
    "train['second_class'] = np.where(train['Pclass']==2, 1, 0)\n",
    "train['is_female'] = np.where(train['Sex']=='female', 1, 0)"
   ]
  },
  {
   "cell_type": "code",
   "execution_count": 54,
   "id": "numerical-genesis",
   "metadata": {},
   "outputs": [
    {
     "name": "stdout",
     "output_type": "stream",
     "text": [
      "Optimization terminated successfully.\n",
      "         Current function value: 0.445814\n",
      "         Iterations 6\n"
     ]
    },
    {
     "data": {
      "text/html": [
       "<table class=\"simpletable\">\n",
       "<caption>Logit Regression Results</caption>\n",
       "<tr>\n",
       "  <th>Dep. Variable:</th>       <td>Survived</td>     <th>  No. Observations:  </th>  <td>   714</td>  \n",
       "</tr>\n",
       "<tr>\n",
       "  <th>Model:</th>                 <td>Logit</td>      <th>  Df Residuals:      </th>  <td>   708</td>  \n",
       "</tr>\n",
       "<tr>\n",
       "  <th>Method:</th>                 <td>MLE</td>       <th>  Df Model:          </th>  <td>     5</td>  \n",
       "</tr>\n",
       "<tr>\n",
       "  <th>Date:</th>            <td>Mon, 15 Mar 2021</td> <th>  Pseudo R-squ.:     </th>  <td>0.3400</td>  \n",
       "</tr>\n",
       "<tr>\n",
       "  <th>Time:</th>                <td>12:31:57</td>     <th>  Log-Likelihood:    </th> <td> -318.31</td> \n",
       "</tr>\n",
       "<tr>\n",
       "  <th>converged:</th>             <td>True</td>       <th>  LL-Null:           </th> <td> -482.26</td> \n",
       "</tr>\n",
       "<tr>\n",
       "  <th>Covariance Type:</th>     <td>nonrobust</td>    <th>  LLR p-value:       </th> <td>1.003e-68</td>\n",
       "</tr>\n",
       "</table>\n",
       "<table class=\"simpletable\">\n",
       "<tr>\n",
       "       <td></td>          <th>coef</th>     <th>std err</th>      <th>z</th>      <th>P>|z|</th>  <th>[0.025</th>    <th>0.975]</th>  \n",
       "</tr>\n",
       "<tr>\n",
       "  <th>Intercept</th>   <td>    5.6197</td> <td>    0.547</td> <td>   10.279</td> <td> 0.000</td> <td>    4.548</td> <td>    6.691</td>\n",
       "</tr>\n",
       "<tr>\n",
       "  <th>Sex[T.male]</th> <td>   -2.6374</td> <td>    0.219</td> <td>  -12.021</td> <td> 0.000</td> <td>   -3.067</td> <td>   -2.207</td>\n",
       "</tr>\n",
       "<tr>\n",
       "  <th>Pclass</th>      <td>   -1.3160</td> <td>    0.141</td> <td>   -9.342</td> <td> 0.000</td> <td>   -1.592</td> <td>   -1.040</td>\n",
       "</tr>\n",
       "<tr>\n",
       "  <th>Age</th>         <td>   -0.0445</td> <td>    0.008</td> <td>   -5.448</td> <td> 0.000</td> <td>   -0.060</td> <td>   -0.028</td>\n",
       "</tr>\n",
       "<tr>\n",
       "  <th>SibSp</th>       <td>   -0.3646</td> <td>    0.126</td> <td>   -2.882</td> <td> 0.004</td> <td>   -0.613</td> <td>   -0.117</td>\n",
       "</tr>\n",
       "<tr>\n",
       "  <th>Parch</th>       <td>   -0.0371</td> <td>    0.120</td> <td>   -0.311</td> <td> 0.756</td> <td>   -0.272</td> <td>    0.197</td>\n",
       "</tr>\n",
       "</table>"
      ],
      "text/plain": [
       "<class 'statsmodels.iolib.summary.Summary'>\n",
       "\"\"\"\n",
       "                           Logit Regression Results                           \n",
       "==============================================================================\n",
       "Dep. Variable:               Survived   No. Observations:                  714\n",
       "Model:                          Logit   Df Residuals:                      708\n",
       "Method:                           MLE   Df Model:                            5\n",
       "Date:                Mon, 15 Mar 2021   Pseudo R-squ.:                  0.3400\n",
       "Time:                        12:31:57   Log-Likelihood:                -318.31\n",
       "converged:                       True   LL-Null:                       -482.26\n",
       "Covariance Type:            nonrobust   LLR p-value:                 1.003e-68\n",
       "===============================================================================\n",
       "                  coef    std err          z      P>|z|      [0.025      0.975]\n",
       "-------------------------------------------------------------------------------\n",
       "Intercept       5.6197      0.547     10.279      0.000       4.548       6.691\n",
       "Sex[T.male]    -2.6374      0.219    -12.021      0.000      -3.067      -2.207\n",
       "Pclass         -1.3160      0.141     -9.342      0.000      -1.592      -1.040\n",
       "Age            -0.0445      0.008     -5.448      0.000      -0.060      -0.028\n",
       "SibSp          -0.3646      0.126     -2.882      0.004      -0.613      -0.117\n",
       "Parch          -0.0371      0.120     -0.311      0.756      -0.272       0.197\n",
       "===============================================================================\n",
       "\"\"\""
      ]
     },
     "metadata": {},
     "output_type": "display_data"
    },
    {
     "data": {
      "text/plain": [
       "array([[365.,  59.],\n",
       "       [ 78., 212.]])"
      ]
     },
     "metadata": {},
     "output_type": "display_data"
    },
    {
     "data": {
      "text/html": [
       "<table class=\"simpletable\">\n",
       "<caption>Logit Marginal Effects</caption>\n",
       "<tr>\n",
       "  <th>Dep. Variable:</th> <td>Survived</td>\n",
       "</tr>\n",
       "<tr>\n",
       "  <th>Method:</th>          <td>dydx</td>  \n",
       "</tr>\n",
       "<tr>\n",
       "  <th>At:</th>             <td>overall</td>\n",
       "</tr>\n",
       "</table>\n",
       "<table class=\"simpletable\">\n",
       "<tr>\n",
       "       <th></th>          <th>dy/dx</th>    <th>std err</th>      <th>z</th>      <th>P>|z|</th>  <th>[0.025</th>    <th>0.975]</th>  \n",
       "</tr>\n",
       "<tr>\n",
       "  <th>Sex[T.male]</th> <td>   -0.3766</td> <td>    0.017</td> <td>  -21.753</td> <td> 0.000</td> <td>   -0.411</td> <td>   -0.343</td>\n",
       "</tr>\n",
       "<tr>\n",
       "  <th>Pclass</th>      <td>   -0.1879</td> <td>    0.016</td> <td>  -11.698</td> <td> 0.000</td> <td>   -0.219</td> <td>   -0.156</td>\n",
       "</tr>\n",
       "<tr>\n",
       "  <th>Age</th>         <td>   -0.0063</td> <td>    0.001</td> <td>   -5.844</td> <td> 0.000</td> <td>   -0.008</td> <td>   -0.004</td>\n",
       "</tr>\n",
       "<tr>\n",
       "  <th>SibSp</th>       <td>   -0.0521</td> <td>    0.018</td> <td>   -2.935</td> <td> 0.003</td> <td>   -0.087</td> <td>   -0.017</td>\n",
       "</tr>\n",
       "<tr>\n",
       "  <th>Parch</th>       <td>   -0.0053</td> <td>    0.017</td> <td>   -0.311</td> <td> 0.756</td> <td>   -0.039</td> <td>    0.028</td>\n",
       "</tr>\n",
       "</table>"
      ],
      "text/plain": [
       "<class 'statsmodels.iolib.summary.Summary'>\n",
       "\"\"\"\n",
       "        Logit Marginal Effects       \n",
       "=====================================\n",
       "Dep. Variable:               Survived\n",
       "Method:                          dydx\n",
       "At:                           overall\n",
       "===============================================================================\n",
       "                 dy/dx    std err          z      P>|z|      [0.025      0.975]\n",
       "-------------------------------------------------------------------------------\n",
       "Sex[T.male]    -0.3766      0.017    -21.753      0.000      -0.411      -0.343\n",
       "Pclass         -0.1879      0.016    -11.698      0.000      -0.219      -0.156\n",
       "Age            -0.0063      0.001     -5.844      0.000      -0.008      -0.004\n",
       "SibSp          -0.0521      0.018     -2.935      0.003      -0.087      -0.017\n",
       "Parch          -0.0053      0.017     -0.311      0.756      -0.039       0.028\n",
       "===============================================================================\n",
       "\"\"\""
      ]
     },
     "metadata": {},
     "output_type": "display_data"
    }
   ],
   "source": [
    "import statsmodels.api as sm\n",
    "from statsmodels.formula.api import logit\n",
    "\n",
    "model = logit('Survived ~ Pclass + Age + Sex + SibSp + Parch', train).fit()\n",
    "display(model.summary())\n",
    "display(model.pred_table())\n",
    "display(model.get_margeff().summary())"
   ]
  },
  {
   "cell_type": "code",
   "execution_count": 55,
   "id": "economic-fellowship",
   "metadata": {},
   "outputs": [
    {
     "name": "stdout",
     "output_type": "stream",
     "text": [
      "Optimization terminated successfully.\n",
      "         Current function value: 0.445700\n",
      "         Iterations 6\n"
     ]
    },
    {
     "data": {
      "text/html": [
       "<table class=\"simpletable\">\n",
       "<caption>Logit Regression Results</caption>\n",
       "<tr>\n",
       "  <th>Dep. Variable:</th>       <td>Survived</td>     <th>  No. Observations:  </th>  <td>   714</td>  \n",
       "</tr>\n",
       "<tr>\n",
       "  <th>Model:</th>                 <td>Logit</td>      <th>  Df Residuals:      </th>  <td>   707</td>  \n",
       "</tr>\n",
       "<tr>\n",
       "  <th>Method:</th>                 <td>MLE</td>       <th>  Df Model:          </th>  <td>     6</td>  \n",
       "</tr>\n",
       "<tr>\n",
       "  <th>Date:</th>            <td>Mon, 15 Mar 2021</td> <th>  Pseudo R-squ.:     </th>  <td>0.3401</td>  \n",
       "</tr>\n",
       "<tr>\n",
       "  <th>Time:</th>                <td>12:31:57</td>     <th>  Log-Likelihood:    </th> <td> -318.23</td> \n",
       "</tr>\n",
       "<tr>\n",
       "  <th>converged:</th>             <td>True</td>       <th>  LL-Null:           </th> <td> -482.26</td> \n",
       "</tr>\n",
       "<tr>\n",
       "  <th>Covariance Type:</th>     <td>nonrobust</td>    <th>  LLR p-value:       </th> <td>7.899e-68</td>\n",
       "</tr>\n",
       "</table>\n",
       "<table class=\"simpletable\">\n",
       "<tr>\n",
       "        <td></td>          <th>coef</th>     <th>std err</th>      <th>z</th>      <th>P>|z|</th>  <th>[0.025</th>    <th>0.975]</th>  \n",
       "</tr>\n",
       "<tr>\n",
       "  <th>Intercept</th>    <td>   -0.9360</td> <td>    0.277</td> <td>   -3.381</td> <td> 0.001</td> <td>   -1.479</td> <td>   -0.393</td>\n",
       "</tr>\n",
       "<tr>\n",
       "  <th>first_class</th>  <td>    2.6502</td> <td>    0.286</td> <td>    9.275</td> <td> 0.000</td> <td>    2.090</td> <td>    3.210</td>\n",
       "</tr>\n",
       "<tr>\n",
       "  <th>second_class</th> <td>    1.2348</td> <td>    0.246</td> <td>    5.029</td> <td> 0.000</td> <td>    0.754</td> <td>    1.716</td>\n",
       "</tr>\n",
       "<tr>\n",
       "  <th>Age</th>          <td>   -0.0448</td> <td>    0.008</td> <td>   -5.448</td> <td> 0.000</td> <td>   -0.061</td> <td>   -0.029</td>\n",
       "</tr>\n",
       "<tr>\n",
       "  <th>is_female</th>    <td>    2.6423</td> <td>    0.220</td> <td>   12.024</td> <td> 0.000</td> <td>    2.212</td> <td>    3.073</td>\n",
       "</tr>\n",
       "<tr>\n",
       "  <th>SibSp</th>        <td>   -0.3683</td> <td>    0.127</td> <td>   -2.904</td> <td> 0.004</td> <td>   -0.617</td> <td>   -0.120</td>\n",
       "</tr>\n",
       "<tr>\n",
       "  <th>Parch</th>        <td>   -0.0386</td> <td>    0.120</td> <td>   -0.323</td> <td> 0.747</td> <td>   -0.273</td> <td>    0.196</td>\n",
       "</tr>\n",
       "</table>"
      ],
      "text/plain": [
       "<class 'statsmodels.iolib.summary.Summary'>\n",
       "\"\"\"\n",
       "                           Logit Regression Results                           \n",
       "==============================================================================\n",
       "Dep. Variable:               Survived   No. Observations:                  714\n",
       "Model:                          Logit   Df Residuals:                      707\n",
       "Method:                           MLE   Df Model:                            6\n",
       "Date:                Mon, 15 Mar 2021   Pseudo R-squ.:                  0.3401\n",
       "Time:                        12:31:57   Log-Likelihood:                -318.23\n",
       "converged:                       True   LL-Null:                       -482.26\n",
       "Covariance Type:            nonrobust   LLR p-value:                 7.899e-68\n",
       "================================================================================\n",
       "                   coef    std err          z      P>|z|      [0.025      0.975]\n",
       "--------------------------------------------------------------------------------\n",
       "Intercept       -0.9360      0.277     -3.381      0.001      -1.479      -0.393\n",
       "first_class      2.6502      0.286      9.275      0.000       2.090       3.210\n",
       "second_class     1.2348      0.246      5.029      0.000       0.754       1.716\n",
       "Age             -0.0448      0.008     -5.448      0.000      -0.061      -0.029\n",
       "is_female        2.6423      0.220     12.024      0.000       2.212       3.073\n",
       "SibSp           -0.3683      0.127     -2.904      0.004      -0.617      -0.120\n",
       "Parch           -0.0386      0.120     -0.323      0.747      -0.273       0.196\n",
       "================================================================================\n",
       "\"\"\""
      ]
     },
     "metadata": {},
     "output_type": "display_data"
    }
   ],
   "source": [
    "model = logit('Survived ~ first_class + second_class + Age + is_female + SibSp + Parch', train).fit()\n",
    "display(model.summary())"
   ]
  },
  {
   "cell_type": "markdown",
   "id": "applied-campaign",
   "metadata": {},
   "source": [
    "The logged odds of survival decrease by .045 with a 1-year increase in age and decrease by .368 with each additional sibling (or spouse). I will not interpret `Parch` as it is not statistically significant and the effect on the logged odds is near zero anyway.\n",
    "\n",
    "The logged odds of survival are higher by 2.65 for first class and 1.235 for second class passengers, as compared to third class. The logged odds of survival for females are higher by 2.642 compared to males.\n",
    "\n",
    "(However, mostly what matters here is the direction of the relationship.)"
   ]
  },
  {
   "cell_type": "code",
   "execution_count": 56,
   "id": "champion-warner",
   "metadata": {},
   "outputs": [
    {
     "data": {
      "text/plain": [
       "Intercept        0.392209\n",
       "first_class     14.156427\n",
       "second_class     3.437665\n",
       "Age              0.956154\n",
       "is_female       14.045001\n",
       "SibSp            0.691923\n",
       "Parch            0.962129\n",
       "dtype: float64"
      ]
     },
     "execution_count": 56,
     "metadata": {},
     "output_type": "execute_result"
    }
   ],
   "source": [
    "np.exp(model.params)"
   ]
  },
  {
   "cell_type": "markdown",
   "id": "thrown-thong",
   "metadata": {},
   "source": [
    "These are now the odds rather than the logged odds, and the result is multiplicitive rather than additive.\n",
    "\n",
    "The odds of survival are reduced by a multiplicitive factor of 0.956 with a 1-year increase in age, and are reduced by a multiplicitive factor of 0.692 with each additional sibling (or spouse). So, the predicted odds of survival for someone age 25 compared to someone aged 24 is 0.956. The predicted odds of survival for someone traveling with two siblings compared to somone traveling with one sibling is 0.692.\n",
    "\n",
    "The odds of survival increase by 14.156 for first class and 3.438 for second class passengers, compared to third class. Being female increases the odds of survival by 14.045 as compared to males.\n",
    "\n",
    "Making this even easier ..."
   ]
  },
  {
   "cell_type": "code",
   "execution_count": 57,
   "id": "placed-adoption",
   "metadata": {},
   "outputs": [
    {
     "data": {
      "text/plain": [
       "Intercept        -60.779115\n",
       "first_class     1315.642694\n",
       "second_class     243.766544\n",
       "Age               -4.384581\n",
       "is_female       1304.500064\n",
       "SibSp            -30.807668\n",
       "Parch             -3.787129\n",
       "dtype: float64"
      ]
     },
     "execution_count": 57,
     "metadata": {},
     "output_type": "execute_result"
    }
   ],
   "source": [
    "(np.exp(model.params) - 1) * 100"
   ]
  },
  {
   "cell_type": "markdown",
   "id": "provincial-holmes",
   "metadata": {},
   "source": [
    "The odds of survival are lower by 4.39% with an increase in age by 1 year, and lower by 30.81% with each additional sibling/spouse relationship. They are higher by 1,315.64% for first class passengers compared to third class, 1,304.5% for women compared to men, and 243.77% for second class compared to third class passengers. Wow! Being female or not in third class really pays off."
   ]
  },
  {
   "cell_type": "code",
   "execution_count": 58,
   "id": "requested-island",
   "metadata": {},
   "outputs": [
    {
     "data": {
      "text/html": [
       "<table class=\"simpletable\">\n",
       "<caption>Logit Marginal Effects</caption>\n",
       "<tr>\n",
       "  <th>Dep. Variable:</th> <td>Survived</td>\n",
       "</tr>\n",
       "<tr>\n",
       "  <th>Method:</th>          <td>dydx</td>  \n",
       "</tr>\n",
       "<tr>\n",
       "  <th>At:</th>              <td>mean</td>  \n",
       "</tr>\n",
       "</table>\n",
       "<table class=\"simpletable\">\n",
       "<tr>\n",
       "        <th></th>          <th>dy/dx</th>    <th>std err</th>      <th>z</th>      <th>P>|z|</th>  <th>[0.025</th>    <th>0.975]</th>  \n",
       "</tr>\n",
       "<tr>\n",
       "  <th>first_class</th>  <td>    0.6201</td> <td>    0.067</td> <td>    9.287</td> <td> 0.000</td> <td>    0.489</td> <td>    0.751</td>\n",
       "</tr>\n",
       "<tr>\n",
       "  <th>second_class</th> <td>    0.2889</td> <td>    0.057</td> <td>    5.072</td> <td> 0.000</td> <td>    0.177</td> <td>    0.401</td>\n",
       "</tr>\n",
       "<tr>\n",
       "  <th>Age</th>          <td>   -0.0105</td> <td>    0.002</td> <td>   -5.445</td> <td> 0.000</td> <td>   -0.014</td> <td>   -0.007</td>\n",
       "</tr>\n",
       "<tr>\n",
       "  <th>is_female</th>    <td>    0.6182</td> <td>    0.053</td> <td>   11.768</td> <td> 0.000</td> <td>    0.515</td> <td>    0.721</td>\n",
       "</tr>\n",
       "<tr>\n",
       "  <th>SibSp</th>        <td>   -0.0862</td> <td>    0.030</td> <td>   -2.903</td> <td> 0.004</td> <td>   -0.144</td> <td>   -0.028</td>\n",
       "</tr>\n",
       "<tr>\n",
       "  <th>Parch</th>        <td>   -0.0090</td> <td>    0.028</td> <td>   -0.323</td> <td> 0.747</td> <td>   -0.064</td> <td>    0.046</td>\n",
       "</tr>\n",
       "</table>"
      ],
      "text/plain": [
       "<class 'statsmodels.iolib.summary.Summary'>\n",
       "\"\"\"\n",
       "        Logit Marginal Effects       \n",
       "=====================================\n",
       "Dep. Variable:               Survived\n",
       "Method:                          dydx\n",
       "At:                              mean\n",
       "================================================================================\n",
       "                  dy/dx    std err          z      P>|z|      [0.025      0.975]\n",
       "--------------------------------------------------------------------------------\n",
       "first_class      0.6201      0.067      9.287      0.000       0.489       0.751\n",
       "second_class     0.2889      0.057      5.072      0.000       0.177       0.401\n",
       "Age             -0.0105      0.002     -5.445      0.000      -0.014      -0.007\n",
       "is_female        0.6182      0.053     11.768      0.000       0.515       0.721\n",
       "SibSp           -0.0862      0.030     -2.903      0.004      -0.144      -0.028\n",
       "Parch           -0.0090      0.028     -0.323      0.747      -0.064       0.046\n",
       "================================================================================\n",
       "\"\"\""
      ]
     },
     "metadata": {},
     "output_type": "display_data"
    },
    {
     "data": {
      "text/plain": [
       "'average survival rate: 0.3838383838383838'"
      ]
     },
     "metadata": {},
     "output_type": "display_data"
    }
   ],
   "source": [
    "display(model.get_margeff(at='mean').summary())\n",
    "display(f\"average survival rate: {np.mean(train['Survived'])}\")"
   ]
  },
  {
   "cell_type": "markdown",
   "id": "dietary-facing",
   "metadata": {},
   "source": [
    "Interpretation of marginal effects:\n",
    "    \n",
    "For a person at the average in all other ways, the marginal effect at the mean on the probability of survival decreases by .011 with an infinitely small increase in age, and by .086 with an infinitely small increase in the number of siblings or spouses (an infinitely small sibling?).\n",
    "\n",
    "At the means, the marginal effect of being female increases the odds of surviving by 0.618. First class and second class passengers respectively enjoy a marginal increase in the predicted probability of survival by 0.62 and 0.289, respectively, compared to third class passengers.  "
   ]
  },
  {
   "cell_type": "code",
   "execution_count": 59,
   "id": "rising-tower",
   "metadata": {},
   "outputs": [
    {
     "data": {
      "text/plain": [
       "2.308641975308642"
      ]
     },
     "metadata": {},
     "output_type": "display_data"
    },
    {
     "data": {
      "text/plain": [
       "29.69911764705882"
      ]
     },
     "metadata": {},
     "output_type": "display_data"
    },
    {
     "data": {
      "text/plain": [
       "0.35241301907968575"
      ]
     },
     "metadata": {},
     "output_type": "display_data"
    },
    {
     "data": {
      "text/plain": [
       "0.5230078563411896"
      ]
     },
     "metadata": {},
     "output_type": "display_data"
    }
   ],
   "source": [
    "display(np.mean(train['Pclass']))\n",
    "display(np.mean(train['Age']))\n",
    "display(np.mean(train['is_female']))\n",
    "display(np.mean(train['SibSp']))"
   ]
  },
  {
   "cell_type": "markdown",
   "id": "silver-treasurer",
   "metadata": {},
   "source": [
    "By the way, our average passenger is a second-class male passenger aged 30 traveling with one sibling or spouse."
   ]
  },
  {
   "cell_type": "code",
   "execution_count": 60,
   "id": "available-newfoundland",
   "metadata": {},
   "outputs": [],
   "source": [
    "from sklearn.model_selection import train_test_split\n",
    "\n",
    "y = train['Survived']\n",
    "X = train[['first_class', 'second_class', 'Age', 'is_female', 'SibSp']]\n",
    "\n",
    "X_train, X_test, y_train, y_test = train_test_split(X, y, test_size=0.3, random_state=42)"
   ]
  },
  {
   "cell_type": "code",
   "execution_count": 61,
   "id": "weekly-kitchen",
   "metadata": {},
   "outputs": [
    {
     "name": "stdout",
     "output_type": "stream",
     "text": [
      "Winning parameters: {'logreg__multi_class': 'ovr', 'logreg__penalty': 'l2', 'logreg__solver': 'liblinear'}\n",
      "R-squared is: 0.8134328358208955\n",
      "RMSE is: 0.43193421279068006, and MAE is: 0.1865671641791045\n"
     ]
    }
   ],
   "source": [
    "from sklearn.impute import SimpleImputer\n",
    "from sklearn.pipeline import Pipeline\n",
    "from sklearn.model_selection import GridSearchCV\n",
    "from sklearn.metrics import mean_squared_error, mean_absolute_error\n",
    "\n",
    "from sklearn.linear_model import LogisticRegression\n",
    "\n",
    "imputer =  SimpleImputer(strategy='mean')\n",
    "param_grid = {\n",
    "    'logreg__penalty': ['l1', 'l2'],\n",
    "    'logreg__solver': ['liblinear'],\n",
    "    'logreg__multi_class': ['ovr']\n",
    "}\n",
    "\n",
    "steps = [('imputation', imputer), ('logreg', LogisticRegression())]\n",
    "pipeline = Pipeline(steps)\n",
    "\n",
    "logreg_cv = GridSearchCV(pipeline, param_grid, cv=5)\n",
    "logreg_cv.fit(X_train, y_train)\n",
    "y_pred = logreg_cv.predict(X_test)\n",
    "\n",
    "r2 = logreg_cv.score(X_test, y_test)\n",
    "rmse = np.sqrt(mean_squared_error(y_test, y_pred))\n",
    "mae = mean_absolute_error(y_test, y_pred)\n",
    "print(f\"Winning parameters: {logreg_cv.best_params_}\")\n",
    "print(f\"R-squared is: {r2}\")\n",
    "print(f\"RMSE is: {rmse}, and MAE is: {mae}\")"
   ]
  },
  {
   "cell_type": "code",
   "execution_count": 62,
   "id": "flying-clark",
   "metadata": {},
   "outputs": [
    {
     "name": "stdout",
     "output_type": "stream",
     "text": [
      "Winning parameters: {'logreg__multi_class': 'ovr', 'logreg__penalty': 'none', 'logreg__solver': 'lbfgs'}\n",
      "R-squared is: 0.8134328358208955\n",
      "RMSE is: 0.43193421279068006, and MAE is: 0.1865671641791045\n"
     ]
    }
   ],
   "source": [
    "imputer =  SimpleImputer(strategy='mean')\n",
    "param_grid = {\n",
    "    'logreg__penalty': ['l2', 'none'],\n",
    "    'logreg__solver': ['lbfgs'],\n",
    "    'logreg__multi_class': ['ovr']\n",
    "}\n",
    "\n",
    "steps = [('imputation', imputer), ('logreg', LogisticRegression())]\n",
    "pipeline = Pipeline(steps)\n",
    "\n",
    "logreg_cv = GridSearchCV(pipeline, param_grid, cv=5)\n",
    "logreg_cv.fit(X_train, y_train)\n",
    "y_pred = logreg_cv.predict(X_test)\n",
    "\n",
    "r2 = logreg_cv.score(X_test, y_test)\n",
    "rmse = np.sqrt(mean_squared_error(y_test, y_pred))\n",
    "mae = mean_absolute_error(y_test, y_pred)\n",
    "print(f\"Winning parameters: {logreg_cv.best_params_}\")\n",
    "print(f\"R-squared is: {r2}\")\n",
    "print(f\"RMSE is: {rmse}, and MAE is: {mae}\")"
   ]
  },
  {
   "cell_type": "code",
   "execution_count": 63,
   "id": "corresponding-trial",
   "metadata": {},
   "outputs": [],
   "source": [
    "# prepare test data\n",
    "\n",
    "X_holdout = pd.read_csv('test.csv', index_col='PassengerId')\n",
    "\n",
    "X_holdout['first_class'] = np.where(X_holdout['Pclass']==1, 1, 0)\n",
    "X_holdout['second_class'] = np.where(X_holdout['Pclass']==2, 1, 0)\n",
    "X_holdout['is_female'] = np.where(X_holdout['Sex']=='female', 1, 0)\n",
    "\n",
    "X_holdout_for_pred = X_holdout[['first_class', 'second_class', 'Age', 'is_female', 'SibSp']]"
   ]
  },
  {
   "cell_type": "code",
   "execution_count": 64,
   "id": "greenhouse-handling",
   "metadata": {},
   "outputs": [],
   "source": [
    "imputer =  SimpleImputer(strategy='mean')\n",
    "logreg = LogisticRegression(multi_class='ovr', penalty='l2', solver='liblinear')\n",
    "\n",
    "steps = [('imputation', imputer), ('model', logreg)]\n",
    "pipeline = Pipeline(steps)\n",
    "\n",
    "pipeline.fit(X, y)\n",
    "preds = pipeline.predict(X_holdout_for_pred)"
   ]
  },
  {
   "cell_type": "code",
   "execution_count": 65,
   "id": "handmade-referral",
   "metadata": {},
   "outputs": [],
   "source": [
    "submission_df = pd.DataFrame({'PassengerId': X_holdout_for_pred.index, 'Survived': preds})\n",
    "submission_df.to_csv('survival_predictions.csv', index=False)"
   ]
  }
 ],
 "metadata": {
  "kernelspec": {
   "display_name": "Python 3",
   "language": "python",
   "name": "python3"
  },
  "language_info": {
   "codemirror_mode": {
    "name": "ipython",
    "version": 3
   },
   "file_extension": ".py",
   "mimetype": "text/x-python",
   "name": "python",
   "nbconvert_exporter": "python",
   "pygments_lexer": "ipython3",
   "version": "3.8.8"
  }
 },
 "nbformat": 4,
 "nbformat_minor": 5
}
