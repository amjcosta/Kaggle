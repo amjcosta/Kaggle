{
 "cells": [
  {
   "cell_type": "code",
   "execution_count": 6,
   "id": "determined-isaac",
   "metadata": {},
   "outputs": [],
   "source": [
    "import pandas as pd\n",
    "import numpy as np\n",
    "\n",
    "train = pd.read_csv('train.csv', index_col='PassengerId')"
   ]
  },
  {
   "cell_type": "code",
   "execution_count": 7,
   "id": "spectacular-batch",
   "metadata": {},
   "outputs": [],
   "source": [
    "train.drop(['Ticket'], axis=1, inplace=True)\n",
    "train.drop(['Cabin'], axis=1, inplace=True)\n",
    "\n",
    "train['first_class'] = np.where(train['Pclass']==1, 1, 0)\n",
    "train['third_class'] = np.where(train['Pclass']==3, 1, 0)\n",
    "train['is_female'] = np.where(train['Sex']=='female', 1, 0)\n",
    "train['embarked_southampton'] = np.where(train['Embarked']=='S', 1, 0)\n",
    "train['embarked_cherbourg'] = np.where(train['Embarked']=='C', 1, 0)\n",
    "train['under_18'] = np.where(train['Age']<18, 1, 0)"
   ]
  },
  {
   "cell_type": "code",
   "execution_count": 8,
   "id": "numerical-genesis",
   "metadata": {},
   "outputs": [
    {
     "name": "stdout",
     "output_type": "stream",
     "text": [
      "Optimization terminated successfully.\n",
      "         Current function value: 0.445814\n",
      "         Iterations 6\n"
     ]
    },
    {
     "data": {
      "text/html": [
       "<table class=\"simpletable\">\n",
       "<caption>Logit Regression Results</caption>\n",
       "<tr>\n",
       "  <th>Dep. Variable:</th>       <td>Survived</td>     <th>  No. Observations:  </th>  <td>   714</td>  \n",
       "</tr>\n",
       "<tr>\n",
       "  <th>Model:</th>                 <td>Logit</td>      <th>  Df Residuals:      </th>  <td>   708</td>  \n",
       "</tr>\n",
       "<tr>\n",
       "  <th>Method:</th>                 <td>MLE</td>       <th>  Df Model:          </th>  <td>     5</td>  \n",
       "</tr>\n",
       "<tr>\n",
       "  <th>Date:</th>            <td>Fri, 12 Mar 2021</td> <th>  Pseudo R-squ.:     </th>  <td>0.3400</td>  \n",
       "</tr>\n",
       "<tr>\n",
       "  <th>Time:</th>                <td>17:10:20</td>     <th>  Log-Likelihood:    </th> <td> -318.31</td> \n",
       "</tr>\n",
       "<tr>\n",
       "  <th>converged:</th>             <td>True</td>       <th>  LL-Null:           </th> <td> -482.26</td> \n",
       "</tr>\n",
       "<tr>\n",
       "  <th>Covariance Type:</th>     <td>nonrobust</td>    <th>  LLR p-value:       </th> <td>1.003e-68</td>\n",
       "</tr>\n",
       "</table>\n",
       "<table class=\"simpletable\">\n",
       "<tr>\n",
       "       <td></td>          <th>coef</th>     <th>std err</th>      <th>z</th>      <th>P>|z|</th>  <th>[0.025</th>    <th>0.975]</th>  \n",
       "</tr>\n",
       "<tr>\n",
       "  <th>Intercept</th>   <td>    5.6197</td> <td>    0.547</td> <td>   10.279</td> <td> 0.000</td> <td>    4.548</td> <td>    6.691</td>\n",
       "</tr>\n",
       "<tr>\n",
       "  <th>Sex[T.male]</th> <td>   -2.6374</td> <td>    0.219</td> <td>  -12.021</td> <td> 0.000</td> <td>   -3.067</td> <td>   -2.207</td>\n",
       "</tr>\n",
       "<tr>\n",
       "  <th>Pclass</th>      <td>   -1.3160</td> <td>    0.141</td> <td>   -9.342</td> <td> 0.000</td> <td>   -1.592</td> <td>   -1.040</td>\n",
       "</tr>\n",
       "<tr>\n",
       "  <th>Age</th>         <td>   -0.0445</td> <td>    0.008</td> <td>   -5.448</td> <td> 0.000</td> <td>   -0.060</td> <td>   -0.028</td>\n",
       "</tr>\n",
       "<tr>\n",
       "  <th>SibSp</th>       <td>   -0.3646</td> <td>    0.126</td> <td>   -2.882</td> <td> 0.004</td> <td>   -0.613</td> <td>   -0.117</td>\n",
       "</tr>\n",
       "<tr>\n",
       "  <th>Parch</th>       <td>   -0.0371</td> <td>    0.120</td> <td>   -0.311</td> <td> 0.756</td> <td>   -0.272</td> <td>    0.197</td>\n",
       "</tr>\n",
       "</table>"
      ],
      "text/plain": [
       "<class 'statsmodels.iolib.summary.Summary'>\n",
       "\"\"\"\n",
       "                           Logit Regression Results                           \n",
       "==============================================================================\n",
       "Dep. Variable:               Survived   No. Observations:                  714\n",
       "Model:                          Logit   Df Residuals:                      708\n",
       "Method:                           MLE   Df Model:                            5\n",
       "Date:                Fri, 12 Mar 2021   Pseudo R-squ.:                  0.3400\n",
       "Time:                        17:10:20   Log-Likelihood:                -318.31\n",
       "converged:                       True   LL-Null:                       -482.26\n",
       "Covariance Type:            nonrobust   LLR p-value:                 1.003e-68\n",
       "===============================================================================\n",
       "                  coef    std err          z      P>|z|      [0.025      0.975]\n",
       "-------------------------------------------------------------------------------\n",
       "Intercept       5.6197      0.547     10.279      0.000       4.548       6.691\n",
       "Sex[T.male]    -2.6374      0.219    -12.021      0.000      -3.067      -2.207\n",
       "Pclass         -1.3160      0.141     -9.342      0.000      -1.592      -1.040\n",
       "Age            -0.0445      0.008     -5.448      0.000      -0.060      -0.028\n",
       "SibSp          -0.3646      0.126     -2.882      0.004      -0.613      -0.117\n",
       "Parch          -0.0371      0.120     -0.311      0.756      -0.272       0.197\n",
       "===============================================================================\n",
       "\"\"\""
      ]
     },
     "metadata": {},
     "output_type": "display_data"
    },
    {
     "data": {
      "text/plain": [
       "array([[365.,  59.],\n",
       "       [ 78., 212.]])"
      ]
     },
     "metadata": {},
     "output_type": "display_data"
    }
   ],
   "source": [
    "import statsmodels.api as sm\n",
    "from statsmodels.formula.api import logit\n",
    "\n",
    "model = logit('Survived ~ Pclass + Age + Sex + SibSp + Parch', train).fit()\n",
    "display(model.summary())\n",
    "display(model.pred_table())"
   ]
  },
  {
   "cell_type": "code",
   "execution_count": 9,
   "id": "available-newfoundland",
   "metadata": {},
   "outputs": [],
   "source": [
    "# model = logit('Survived ~ is_female + traveling_alone + first_class + second_class + under_18', train).fit()\n",
    "# display(model.summary())"
   ]
  },
  {
   "cell_type": "code",
   "execution_count": 10,
   "id": "purple-printing",
   "metadata": {},
   "outputs": [],
   "source": [
    "# model = logit('Survived ~ Sex + Age + third_class + embarked_cherbourg', train).fit()\n",
    "# display(model.summary())"
   ]
  },
  {
   "cell_type": "code",
   "execution_count": null,
   "id": "worse-proposal",
   "metadata": {},
   "outputs": [],
   "source": []
  }
 ],
 "metadata": {
  "kernelspec": {
   "display_name": "Python 3",
   "language": "python",
   "name": "python3"
  },
  "language_info": {
   "codemirror_mode": {
    "name": "ipython",
    "version": 3
   },
   "file_extension": ".py",
   "mimetype": "text/x-python",
   "name": "python",
   "nbconvert_exporter": "python",
   "pygments_lexer": "ipython3",
   "version": "3.8.8"
  }
 },
 "nbformat": 4,
 "nbformat_minor": 5
}
